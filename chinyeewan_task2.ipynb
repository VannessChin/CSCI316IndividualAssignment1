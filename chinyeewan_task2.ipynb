{
 "cells": [
  {
   "cell_type": "markdown",
   "metadata": {},
   "source": [
    "# Task2"
   ]
  },
  {
   "cell_type": "markdown",
   "metadata": {},
   "source": [
    "## Pre-processing Part\n"
   ]
  },
  {
   "cell_type": "code",
   "execution_count": null,
   "metadata": {},
   "outputs": [],
   "source": [
    "import numpy as np\n",
    "import pandas as pd"
   ]
  },
  {
   "cell_type": "code",
   "execution_count": null,
   "metadata": {},
   "outputs": [],
   "source": [
    "X = pd.read_csv('../../customer_churn_dataset-training-master.csv')\n",
    "y = pd.read_csv('../../customer_churn_dataset-testing-master.csv')"
   ]
  },
  {
   "cell_type": "code",
   "execution_count": null,
   "metadata": {},
   "outputs": [],
   "source": [
    "class Node:\n",
    "    def __init__(self, data_indices, depth):\n",
    "        self.data_indices = data_indices\n",
    "        self.depth = depth\n",
    "        self.split_feature = None\n",
    "        self.split_value = None\n",
    "        self.label = None\n",
    "        self.gain = 0.0  # For Information Gain\n",
    "        self.gain_ratio = 0.0  # For Gain Ratio\n",
    "        self.gini_index = 0.0  # For Gini Index\n",
    "        self.left = None\n",
    "        self.right = None"
   ]
  },
  {
   "cell_type": "code",
   "execution_count": null,
   "metadata": {},
   "outputs": [],
   "source": [
    "class DecisionTree:\n",
    "    def __init__(self, max_depth=None, min_samples_split=2, split_criterion=\"gini\"):\n",
    "        self.max_depth = max_depth\n",
    "        self.min_samples_split = min_samples_split\n",
    "        self.split_criterion = split_criterion\n",
    "\n",
    "    def fit(self, X, y):\n",
    "        self.num_classes = len(np.unique(y))\n",
    "        self.tree = self._build_tree(X, y, depth=0)\n",
    "\n",
    "    def _build_tree(self, X, y, depth):\n",
    "        num_samples, num_features = X.shape\n",
    "        data_indices = np.arange(num_samples)\n",
    "        node = Node(data_indices, depth)\n",
    "\n",
    "        if depth < self.max_depth and num_samples >= self.min_samples_split:\n",
    "            best_gain = 0.0\n",
    "\n",
    "            for feature in range(num_features):\n",
    "                unique_values = np.unique(X[data_indices, feature])\n",
    "                for value in unique_values:\n",
    "                    left_indices = data_indices[X[data_indices, feature] <= value]\n",
    "                    right_indices = data_indices[X[data_indices, feature] > value]\n",
    "\n",
    "                    if len(left_indices) == 0 or len(right_indices) == 0:\n",
    "                        continue\n",
    "\n",
    "                    gain = self._calculate_criterion(y, left_indices, right_indices)\n",
    "\n",
    "                    if gain > best_gain:\n",
    "                        best_gain = gain\n",
    "                        node.split_feature = feature\n",
    "                        node.split_value = value\n",
    "                        node.gain = gain\n",
    "\n",
    "            if node.gain == 0.0:\n",
    "                node.label = np.argmax(np.bincount(y[data_indices]))\n",
    "                return node\n",
    "\n",
    "            left_node = self._build_tree(X, y, depth + 1)\n",
    "            right_node = self._build_tree(X, y, depth + 1)\n",
    "            node.left = left_node\n",
    "            node.right = right_node\n",
    "\n",
    "        else:\n",
    "            node.label = np.argmax(np.bincount(y[data_indices]))\n",
    "\n",
    "        return node\n",
    "\n",
    "    def _calculate_criterion(self, y, left_indices, right_indices):\n",
    "        if self.split_criterion == \"gini\":\n",
    "            return self._gini_index(y, left_indices, right_indices)\n",
    "        elif self.split_criterion == \"gain_ratio\":\n",
    "            return self._gain_ratio(y, left_indices, right_indices)\n",
    "        else:\n",
    "            return self._information_gain(y, left_indices, right_indices)\n",
    "\n",
    "    def _gini_index(self, y, left_indices, right_indices):\n",
    "        num_left = len(left_indices)\n",
    "        num_right = len(right_indices)\n",
    "        num_total = num_left + num_right\n",
    "\n",
    "        gini_left = 1.0 - sum((np.bincount(y[left_indices]) / num_left) ** 2)\n",
    "        gini_right = 1.0 - sum((np.bincount(y[right_indices]) / num_right) ** 2)\n",
    "\n",
    "        gini = (num_left / num_total) * gini_left + (num_right / num_total) * gini_right\n",
    "        return gini\n",
    "\n",
    "    def _entropy(self, y):\n",
    "        probs = np.bincount(y) / len(y)\n",
    "        return -np.sum(probs * np.log2(probs + 1e-10))\n",
    "\n",
    "    def _gain_ratio(self, y, left_indices, right_indices):\n",
    "        h_y = self._entropy(y)\n",
    "        h_yx = (len(left_indices) / len(y)) * self._entropy(y[left_indices]) + \\\n",
    "               (len(right_indices) / len(y)) * self._entropy(y[right_indices])\n",
    "\n",
    "        split_info = -((len(left_indices) / len(y)) * np.log2(len(left_indices) / len(y) + 1e-10)) - \\\n",
    "                     ((len(right_indices) / len(y)) * np.log2(len(right_indices) / len(y) + 1e-10))\n",
    "\n",
    "        gain_ratio = (h_y - h_yx) / (split_info + 1e-10)\n",
    "        return gain_ratio\n",
    "\n",
    "    def _information_gain(self, y, left_indices, right_indices):\n",
    "        h_y = self._entropy(y)\n",
    "        h_yx = (len(left_indices) / len(y)) * self._entropy(y[left_indices]) + \\\n",
    "               (len(right_indices) / len(y)) * self._entropy(y[right_indices])\n",
    "        information_gain = h_y - h_yx\n",
    "        return information_gain\n",
    "\n",
    "    def predict(self, X):\n",
    "        return np.array([self._predict_instance(x, self.tree) for x in X])\n",
    "\n",
    "    def _predict_instance(self, x, node):\n",
    "        if node.label is not None:\n",
    "            return node.label\n",
    "        if x[node.split_feature] <= node.split_value:\n",
    "            return self._predict_instance(x, node.left)\n",
    "        else:\n",
    "            return self._predict_instance(x, node.right)"
   ]
  },
  {
   "cell_type": "code",
   "execution_count": null,
   "metadata": {},
   "outputs": [],
   "source": [
    "def ensemble_voting(predictions):\n",
    "    ensemble_predictions = np.column_stack(predictions)\n",
    "    final_predictions = np.apply_along_axis(lambda x: np.bincount(x).argmax(), axis=1, arr=ensemble_predictions)\n",
    "    return final_predictions"
   ]
  },
  {
   "cell_type": "code",
   "execution_count": null,
   "metadata": {},
   "outputs": [],
   "source": [
    "# Split dataset into train and test sets\n",
    "split_idx = int(0.8 * len(X))\n",
    "X_train, X_test = X[:split_idx], X[split_idx:]\n",
    "y_train, y_test = y[:split_idx], y[split_idx:]"
   ]
  },
  {
   "cell_type": "code",
   "execution_count": null,
   "metadata": {},
   "outputs": [],
   "source": [
    "# Create decision tree models\n",
    "tree_info_gain = DecisionTree(max_depth=5, min_samples_split=2, split_criterion=\"information_gain\")\n",
    "tree_info_gain.fit(X_train, y_train)"
   ]
  },
  {
   "cell_type": "code",
   "execution_count": null,
   "metadata": {},
   "outputs": [],
   "source": [
    "tree_gain_ratio = DecisionTree(max_depth=5, min_samples_split=2, split_criterion=\"gain_ratio\")\n",
    "tree_gain_ratio.fit(X_train, y_train)"
   ]
  },
  {
   "cell_type": "code",
   "execution_count": null,
   "metadata": {},
   "outputs": [],
   "source": [
    "tree_gini = DecisionTree(max_depth=5, min_samples_split=2, split_criterion=\"gini\")\n",
    "tree_gini.fit(X)"
   ]
  }
 ],
 "metadata": {
  "kernelspec": {
   "display_name": "Python 3",
   "language": "python",
   "name": "python3"
  },
  "language_info": {
   "codemirror_mode": {
    "name": "ipython",
    "version": 3
   },
   "file_extension": ".py",
   "mimetype": "text/x-python",
   "name": "python",
   "nbconvert_exporter": "python",
   "pygments_lexer": "ipython3",
   "version": "3.11.4"
  },
  "orig_nbformat": 4
 },
 "nbformat": 4,
 "nbformat_minor": 2
}
