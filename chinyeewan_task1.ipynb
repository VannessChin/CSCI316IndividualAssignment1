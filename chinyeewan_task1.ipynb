{
 "cells": [
  {
   "cell_type": "markdown",
   "metadata": {},
   "source": [
    "# Individual Assignment 1"
   ]
  },
  {
   "cell_type": "markdown",
   "metadata": {},
   "source": [
    "## Requirement 1 "
   ]
  },
  {
   "cell_type": "markdown",
   "metadata": {},
   "source": [
    "### Create Pandas dataframe for training and testing data"
   ]
  },
  {
   "cell_type": "code",
   "execution_count": 46,
   "metadata": {},
   "outputs": [],
   "source": [
    "import pandas as pd\n",
    "import numpy as np\n",
    "import matplotlib.pyplot as plt\n",
    "import seaborn as sns\n",
    "\n",
    "sns.set_style('whitegrid')"
   ]
  },
  {
   "cell_type": "code",
   "execution_count": 47,
   "metadata": {},
   "outputs": [
    {
     "name": "stdout",
     "output_type": "stream",
     "text": [
      "Number of samples: 440832\n"
     ]
    },
    {
     "data": {
      "text/html": [
       "<div>\n",
       "<style scoped>\n",
       "    .dataframe tbody tr th:only-of-type {\n",
       "        vertical-align: middle;\n",
       "    }\n",
       "\n",
       "    .dataframe tbody tr th {\n",
       "        vertical-align: top;\n",
       "    }\n",
       "\n",
       "    .dataframe thead th {\n",
       "        text-align: right;\n",
       "    }\n",
       "</style>\n",
       "<table border=\"1\" class=\"dataframe\">\n",
       "  <thead>\n",
       "    <tr style=\"text-align: right;\">\n",
       "      <th></th>\n",
       "      <th>CustomerID</th>\n",
       "      <th>Age</th>\n",
       "      <th>Gender</th>\n",
       "      <th>Tenure</th>\n",
       "      <th>Usage Frequency</th>\n",
       "      <th>Support Calls</th>\n",
       "      <th>Payment Delay</th>\n",
       "      <th>Subscription Type</th>\n",
       "      <th>Contract Length</th>\n",
       "      <th>Total Spend</th>\n",
       "      <th>Last Interaction</th>\n",
       "      <th>Churn</th>\n",
       "    </tr>\n",
       "  </thead>\n",
       "  <tbody>\n",
       "    <tr>\n",
       "      <th>0</th>\n",
       "      <td>2.0</td>\n",
       "      <td>30.0</td>\n",
       "      <td>Female</td>\n",
       "      <td>39.0</td>\n",
       "      <td>14.0</td>\n",
       "      <td>5.0</td>\n",
       "      <td>18.0</td>\n",
       "      <td>Standard</td>\n",
       "      <td>Annual</td>\n",
       "      <td>932.0</td>\n",
       "      <td>17.0</td>\n",
       "      <td>1.0</td>\n",
       "    </tr>\n",
       "    <tr>\n",
       "      <th>1</th>\n",
       "      <td>3.0</td>\n",
       "      <td>65.0</td>\n",
       "      <td>Female</td>\n",
       "      <td>49.0</td>\n",
       "      <td>1.0</td>\n",
       "      <td>10.0</td>\n",
       "      <td>8.0</td>\n",
       "      <td>Basic</td>\n",
       "      <td>Monthly</td>\n",
       "      <td>557.0</td>\n",
       "      <td>6.0</td>\n",
       "      <td>1.0</td>\n",
       "    </tr>\n",
       "    <tr>\n",
       "      <th>2</th>\n",
       "      <td>4.0</td>\n",
       "      <td>55.0</td>\n",
       "      <td>Female</td>\n",
       "      <td>14.0</td>\n",
       "      <td>4.0</td>\n",
       "      <td>6.0</td>\n",
       "      <td>18.0</td>\n",
       "      <td>Basic</td>\n",
       "      <td>Quarterly</td>\n",
       "      <td>185.0</td>\n",
       "      <td>3.0</td>\n",
       "      <td>1.0</td>\n",
       "    </tr>\n",
       "    <tr>\n",
       "      <th>3</th>\n",
       "      <td>5.0</td>\n",
       "      <td>58.0</td>\n",
       "      <td>Male</td>\n",
       "      <td>38.0</td>\n",
       "      <td>21.0</td>\n",
       "      <td>7.0</td>\n",
       "      <td>7.0</td>\n",
       "      <td>Standard</td>\n",
       "      <td>Monthly</td>\n",
       "      <td>396.0</td>\n",
       "      <td>29.0</td>\n",
       "      <td>1.0</td>\n",
       "    </tr>\n",
       "    <tr>\n",
       "      <th>4</th>\n",
       "      <td>6.0</td>\n",
       "      <td>23.0</td>\n",
       "      <td>Male</td>\n",
       "      <td>32.0</td>\n",
       "      <td>20.0</td>\n",
       "      <td>5.0</td>\n",
       "      <td>8.0</td>\n",
       "      <td>Basic</td>\n",
       "      <td>Monthly</td>\n",
       "      <td>617.0</td>\n",
       "      <td>20.0</td>\n",
       "      <td>1.0</td>\n",
       "    </tr>\n",
       "  </tbody>\n",
       "</table>\n",
       "</div>"
      ],
      "text/plain": [
       "   CustomerID   Age  Gender  Tenure  Usage Frequency  Support Calls  \\\n",
       "0         2.0  30.0  Female    39.0             14.0            5.0   \n",
       "1         3.0  65.0  Female    49.0              1.0           10.0   \n",
       "2         4.0  55.0  Female    14.0              4.0            6.0   \n",
       "3         5.0  58.0    Male    38.0             21.0            7.0   \n",
       "4         6.0  23.0    Male    32.0             20.0            5.0   \n",
       "\n",
       "   Payment Delay Subscription Type Contract Length  Total Spend  \\\n",
       "0           18.0          Standard          Annual        932.0   \n",
       "1            8.0             Basic         Monthly        557.0   \n",
       "2           18.0             Basic       Quarterly        185.0   \n",
       "3            7.0          Standard         Monthly        396.0   \n",
       "4            8.0             Basic         Monthly        617.0   \n",
       "\n",
       "   Last Interaction  Churn  \n",
       "0              17.0    1.0  \n",
       "1               6.0    1.0  \n",
       "2               3.0    1.0  \n",
       "3              29.0    1.0  \n",
       "4              20.0    1.0  "
      ]
     },
     "execution_count": 47,
     "metadata": {},
     "output_type": "execute_result"
    }
   ],
   "source": [
    "# read training data from file\n",
    "training_data = pd.read_csv(r\"C:\\Users\\User\\Documents\\Singapore Institute of Management - Bachelor\\CSCI316 - Big Data Mining Techniques and Implementation\\Individual Assignment 1\\customer_churn_dataset-training-master.csv\")\n",
    "print(\"Number of samples: %d\" % len(df))\n",
    "training_data.head()"
   ]
  },
  {
   "cell_type": "code",
   "execution_count": 48,
   "metadata": {},
   "outputs": [
    {
     "name": "stdout",
     "output_type": "stream",
     "text": [
      "Number of samples: 64374\n"
     ]
    },
    {
     "data": {
      "text/html": [
       "<div>\n",
       "<style scoped>\n",
       "    .dataframe tbody tr th:only-of-type {\n",
       "        vertical-align: middle;\n",
       "    }\n",
       "\n",
       "    .dataframe tbody tr th {\n",
       "        vertical-align: top;\n",
       "    }\n",
       "\n",
       "    .dataframe thead th {\n",
       "        text-align: right;\n",
       "    }\n",
       "</style>\n",
       "<table border=\"1\" class=\"dataframe\">\n",
       "  <thead>\n",
       "    <tr style=\"text-align: right;\">\n",
       "      <th></th>\n",
       "      <th>CustomerID</th>\n",
       "      <th>Age</th>\n",
       "      <th>Gender</th>\n",
       "      <th>Tenure</th>\n",
       "      <th>Usage Frequency</th>\n",
       "      <th>Support Calls</th>\n",
       "      <th>Payment Delay</th>\n",
       "      <th>Subscription Type</th>\n",
       "      <th>Contract Length</th>\n",
       "      <th>Total Spend</th>\n",
       "      <th>Last Interaction</th>\n",
       "      <th>Churn</th>\n",
       "    </tr>\n",
       "  </thead>\n",
       "  <tbody>\n",
       "    <tr>\n",
       "      <th>0</th>\n",
       "      <td>1</td>\n",
       "      <td>22</td>\n",
       "      <td>Female</td>\n",
       "      <td>25</td>\n",
       "      <td>14</td>\n",
       "      <td>4</td>\n",
       "      <td>27</td>\n",
       "      <td>Basic</td>\n",
       "      <td>Monthly</td>\n",
       "      <td>598</td>\n",
       "      <td>9</td>\n",
       "      <td>1</td>\n",
       "    </tr>\n",
       "    <tr>\n",
       "      <th>1</th>\n",
       "      <td>2</td>\n",
       "      <td>41</td>\n",
       "      <td>Female</td>\n",
       "      <td>28</td>\n",
       "      <td>28</td>\n",
       "      <td>7</td>\n",
       "      <td>13</td>\n",
       "      <td>Standard</td>\n",
       "      <td>Monthly</td>\n",
       "      <td>584</td>\n",
       "      <td>20</td>\n",
       "      <td>0</td>\n",
       "    </tr>\n",
       "    <tr>\n",
       "      <th>2</th>\n",
       "      <td>3</td>\n",
       "      <td>47</td>\n",
       "      <td>Male</td>\n",
       "      <td>27</td>\n",
       "      <td>10</td>\n",
       "      <td>2</td>\n",
       "      <td>29</td>\n",
       "      <td>Premium</td>\n",
       "      <td>Annual</td>\n",
       "      <td>757</td>\n",
       "      <td>21</td>\n",
       "      <td>0</td>\n",
       "    </tr>\n",
       "    <tr>\n",
       "      <th>3</th>\n",
       "      <td>4</td>\n",
       "      <td>35</td>\n",
       "      <td>Male</td>\n",
       "      <td>9</td>\n",
       "      <td>12</td>\n",
       "      <td>5</td>\n",
       "      <td>17</td>\n",
       "      <td>Premium</td>\n",
       "      <td>Quarterly</td>\n",
       "      <td>232</td>\n",
       "      <td>18</td>\n",
       "      <td>0</td>\n",
       "    </tr>\n",
       "    <tr>\n",
       "      <th>4</th>\n",
       "      <td>5</td>\n",
       "      <td>53</td>\n",
       "      <td>Female</td>\n",
       "      <td>58</td>\n",
       "      <td>24</td>\n",
       "      <td>9</td>\n",
       "      <td>2</td>\n",
       "      <td>Standard</td>\n",
       "      <td>Annual</td>\n",
       "      <td>533</td>\n",
       "      <td>18</td>\n",
       "      <td>0</td>\n",
       "    </tr>\n",
       "  </tbody>\n",
       "</table>\n",
       "</div>"
      ],
      "text/plain": [
       "   CustomerID  Age  Gender  Tenure  Usage Frequency  Support Calls  \\\n",
       "0           1   22  Female      25               14              4   \n",
       "1           2   41  Female      28               28              7   \n",
       "2           3   47    Male      27               10              2   \n",
       "3           4   35    Male       9               12              5   \n",
       "4           5   53  Female      58               24              9   \n",
       "\n",
       "   Payment Delay Subscription Type Contract Length  Total Spend  \\\n",
       "0             27             Basic         Monthly          598   \n",
       "1             13          Standard         Monthly          584   \n",
       "2             29           Premium          Annual          757   \n",
       "3             17           Premium       Quarterly          232   \n",
       "4              2          Standard          Annual          533   \n",
       "\n",
       "   Last Interaction  Churn  \n",
       "0                 9      1  \n",
       "1                20      0  \n",
       "2                21      0  \n",
       "3                18      0  \n",
       "4                18      0  "
      ]
     },
     "execution_count": 48,
     "metadata": {},
     "output_type": "execute_result"
    }
   ],
   "source": [
    "# read testing data from file\n",
    "testing_data = pd.read_csv(r\"C:\\Users\\User\\Documents\\Singapore Institute of Management - Bachelor\\CSCI316 - Big Data Mining Techniques and Implementation\\Individual Assignment 1\\customer_churn_dataset-testing-master.csv\")\n",
    "print(\"Number of samples: %d\" % len(testing_data))\n",
    "testing_data.head()"
   ]
  },
  {
   "cell_type": "markdown",
   "metadata": {},
   "source": [
    "## Requirement 2"
   ]
  },
  {
   "cell_type": "markdown",
   "metadata": {},
   "source": [
    "### Clean missing values"
   ]
  },
  {
   "cell_type": "code",
   "execution_count": 49,
   "metadata": {},
   "outputs": [
    {
     "name": "stdout",
     "output_type": "stream",
     "text": [
      "440833\n"
     ]
    }
   ],
   "source": [
    "# Check the null value in each columns\n",
    "training_data.isnull().sum()\n",
    "print(len(training_data))"
   ]
  },
  {
   "cell_type": "code",
   "execution_count": 50,
   "metadata": {},
   "outputs": [],
   "source": [
    "df = training_data.dropna()"
   ]
  },
  {
   "cell_type": "code",
   "execution_count": 51,
   "metadata": {},
   "outputs": [
    {
     "name": "stdout",
     "output_type": "stream",
     "text": [
      "440832\n"
     ]
    }
   ],
   "source": [
    "# to ensure no more null value exists\n",
    "df.isnull().sum()\n",
    "print(len(df))"
   ]
  },
  {
   "cell_type": "markdown",
   "metadata": {},
   "source": [
    "## Requirement 3"
   ]
  },
  {
   "cell_type": "markdown",
   "metadata": {},
   "source": [
    "### Z-score normalisation"
   ]
  },
  {
   "cell_type": "code",
   "execution_count": 52,
   "metadata": {},
   "outputs": [
    {
     "name": "stdout",
     "output_type": "stream",
     "text": [
      "0         0.293052\n",
      "1        -0.986582\n",
      "2        -1.335574\n",
      "3         1.689016\n",
      "4         0.642043\n",
      "            ...   \n",
      "440828   -0.753922\n",
      "440829   -1.451904\n",
      "440830   -0.637591\n",
      "440831   -1.451904\n",
      "440832    0.758373\n",
      "Name: Last Interaction ZScore, Length: 440832, dtype: float64\n",
      "Last Interaction ZScore Mean:  5.054673933252745e-17\n",
      "Last Interaction ZScore Variance:  0.9999977315621372\n"
     ]
    },
    {
     "name": "stderr",
     "output_type": "stream",
     "text": [
      "C:\\Users\\User\\AppData\\Local\\Temp\\ipykernel_12748\\191676646.py:2: SettingWithCopyWarning: \n",
      "A value is trying to be set on a copy of a slice from a DataFrame.\n",
      "Try using .loc[row_indexer,col_indexer] = value instead\n",
      "\n",
      "See the caveats in the documentation: https://pandas.pydata.org/pandas-docs/stable/user_guide/indexing.html#returning-a-view-versus-a-copy\n",
      "  df['Last Interaction ZScore'] = (df['Last Interaction'] - (df['Last Interaction'].mean())) / df['Last Interaction'].std()\n"
     ]
    }
   ],
   "source": [
    "# find z-score for each data in Last Interaction\n",
    "df['Last Interaction ZScore'] = (df['Last Interaction'] - (df['Last Interaction'].mean())) / df['Last Interaction'].std()\n",
    "# print z-score for each data in Last Interaction\n",
    "print(df['Last Interaction ZScore'])\n",
    "# print z-score mean in Last Interaction\n",
    "print('Last Interaction ZScore Mean: ', np.mean(df['Last Interaction ZScore']))\n",
    "# print z-score variance in Last Interaction\n",
    "print('Last Interaction ZScore Variance: ', np.var(df['Last Interaction ZScore']))"
   ]
  },
  {
   "cell_type": "markdown",
   "metadata": {},
   "source": [
    "## Requirement 4"
   ]
  },
  {
   "cell_type": "markdown",
   "metadata": {},
   "source": [
    "### 5 Bins\n",
    "\n"
   ]
  },
  {
   "cell_type": "code",
   "execution_count": 53,
   "metadata": {},
   "outputs": [
    {
     "name": "stdout",
     "output_type": "stream",
     "text": [
      "Total Spend Bins\n",
      "High         117218\n",
      "Very High    116584\n",
      "Normal       102502\n",
      "Moderate      52303\n",
      "Low           52225\n",
      "Name: count, dtype: int64\n",
      "Difference between number of records and number in bins is : 0\n"
     ]
    },
    {
     "name": "stderr",
     "output_type": "stream",
     "text": [
      "C:\\Users\\User\\AppData\\Local\\Temp\\ipykernel_12748\\3010358264.py:15: SettingWithCopyWarning: \n",
      "A value is trying to be set on a copy of a slice from a DataFrame.\n",
      "Try using .loc[row_indexer,col_indexer] = value instead\n",
      "\n",
      "See the caveats in the documentation: https://pandas.pydata.org/pandas-docs/stable/user_guide/indexing.html#returning-a-view-versus-a-copy\n",
      "  df['Total Spend Bins'] = pd.cut(df_total_spend, bins=total_spend_bins, labels=labels, include_lowest=True) # include minimum val, which is 100\n"
     ]
    },
    {
     "data": {
      "image/png": "[encoded data removed]",
      "text/plain": [
       "<Figure size 640x480 with 1 Axes>"
      ]
     },
     "metadata": {},
     "output_type": "display_data"
    }
   ],
   "source": [
    "# create new variable to represent data in Total Spend\n",
    "df_total_spend = df['Total Spend']\n",
    "\n",
    "# find min and max value to identify how large is the range\n",
    "minValue = df_total_spend.min()\n",
    "maxValue = df_total_spend.max()\n",
    "\n",
    "# equally distribute the range into 5 groups\n",
    "total_spend_bins = np.linspace(minValue, maxValue, 6) # 6 represent 6 edges\n",
    "\n",
    "# give names to 5 groups \n",
    "labels = ['Low', 'Moderate', 'Normal', 'High', 'Very High']\n",
    "\n",
    "# throw numeric data into my designated bins\n",
    "df['Total Spend Bins'] = pd.cut(df_total_spend, bins=total_spend_bins, labels=labels, include_lowest=True) # include minimum val, which is 100\n",
    "\n",
    "# how result distributed in histogram\n",
    "plt.hist(df['Total Spend Bins'], bins = 5)\n",
    "\n",
    "#total number of each bin\n",
    "val_count = df['Total Spend Bins'].value_counts()\n",
    "print (val_count)\n",
    "\n",
    "# find the difference between (total number of data in bins) and (total number of data in dataframe) \n",
    "diff = len(df) - val_count.sum()\n",
    "print ('Difference between number of records and number in bins is :', diff)"
   ]
  },
  {
   "cell_type": "markdown",
   "metadata": {},
   "source": [
    "## Requirement 5"
   ]
  },
  {
   "cell_type": "markdown",
   "metadata": {},
   "source": [
    "### One-hot-encoding"
   ]
  },
  {
   "cell_type": "code",
   "execution_count": 54,
   "metadata": {},
   "outputs": [
    {
     "name": "stderr",
     "output_type": "stream",
     "text": [
      "C:\\Users\\User\\AppData\\Local\\Temp\\ipykernel_12748\\1133356993.py:13: SettingWithCopyWarning: \n",
      "A value is trying to be set on a copy of a slice from a DataFrame.\n",
      "Try using .loc[row_indexer,col_indexer] = value instead\n",
      "\n",
      "See the caveats in the documentation: https://pandas.pydata.org/pandas-docs/stable/user_guide/indexing.html#returning-a-view-versus-a-copy\n",
      "  df['Contract Length One Hot']  = medium\n",
      "C:\\Users\\User\\AppData\\Local\\Temp\\ipykernel_12748\\1133356993.py:19: SettingWithCopyWarning: \n",
      "A value is trying to be set on a copy of a slice from a DataFrame\n",
      "\n",
      "See the caveats in the documentation: https://pandas.pydata.org/pandas-docs/stable/user_guide/indexing.html#returning-a-view-versus-a-copy\n",
      "  df['Contract Length One Hot'].at[row] = str(one_hot.iloc[row,0])+','+str(one_hot.iloc[row,1])+','+str(one_hot.iloc[row,2])\n"
     ]
    },
    {
     "name": "stdout",
     "output_type": "stream",
     "text": [
      "0         True,False,False\n",
      "1         False,True,False\n",
      "2         False,False,True\n",
      "3         False,True,False\n",
      "4         False,True,False\n",
      "                ...       \n",
      "440828    True,False,False\n",
      "440829    False,False,True\n",
      "440830    False,False,True\n",
      "440831    False,False,True\n",
      "440832           Quarterly\n",
      "Name: Contract Length One Hot, Length: 440832, dtype: object\n"
     ]
    }
   ],
   "source": [
    "#Create data\n",
    "df_contract_length = pd.DataFrame({'contract_length': ['monthly', 'quarterly', 'yearly']})\n",
    "\n",
    "df_contract_length_one_hot = pd.DataFrame({'contract_length': ['monthly', 'quarterly', 'yearly']})\n",
    "\n",
    "df_contract_length_one_hot = pd.get_dummies(df['Contract Length'], prefix='contract_length')\n",
    "\n",
    "\n",
    "\n",
    "#view contract length dataframe\n",
    "\n",
    "medium = df['Contract Length']\n",
    "df['Contract Length One Hot']  = medium\n",
    "\n",
    "one_hot = pd.get_dummies(df['Contract Length One Hot'], prefix='contract_length')\n",
    "\n",
    "\n",
    "for row in range(df.shape[0]):\n",
    "    df['Contract Length One Hot'].at[row] = str(one_hot.iloc[row,0])+','+str(one_hot.iloc[row,1])+','+str(one_hot.iloc[row,2])\n",
    "print(df['Contract Length One Hot'])"
   ]
  },
  {
   "cell_type": "code",
   "execution_count": 55,
   "metadata": {},
   "outputs": [
    {
     "name": "stdout",
     "output_type": "stream",
     "text": [
      "        CustomerID   Age  Gender  Tenure  Usage Frequency  Support Calls  \\\n",
      "0              2.0  30.0  Female    39.0             14.0            5.0   \n",
      "1              3.0  65.0  Female    49.0              1.0           10.0   \n",
      "2              4.0  55.0  Female    14.0              4.0            6.0   \n",
      "3              5.0  58.0    Male    38.0             21.0            7.0   \n",
      "4              6.0  23.0    Male    32.0             20.0            5.0   \n",
      "...            ...   ...     ...     ...              ...            ...   \n",
      "440828    449995.0  42.0    Male    54.0             15.0            1.0   \n",
      "440829    449996.0  25.0  Female     8.0             13.0            1.0   \n",
      "440830    449997.0  26.0    Male    35.0             27.0            1.0   \n",
      "440831    449998.0  28.0    Male    55.0             14.0            2.0   \n",
      "440832    449999.0  31.0    Male    48.0             20.0            1.0   \n",
      "\n",
      "        Payment Delay Subscription Type Contract Length  Total Spend  \\\n",
      "0                18.0          Standard          Annual       932.00   \n",
      "1                 8.0             Basic         Monthly       557.00   \n",
      "2                18.0             Basic       Quarterly       185.00   \n",
      "3                 7.0          Standard         Monthly       396.00   \n",
      "4                 8.0             Basic         Monthly       617.00   \n",
      "...               ...               ...             ...          ...   \n",
      "440828            3.0           Premium          Annual       716.38   \n",
      "440829           20.0           Premium          Annual       745.38   \n",
      "440830            5.0          Standard       Quarterly       977.31   \n",
      "440831            0.0          Standard       Quarterly       602.55   \n",
      "440832           14.0           Premium       Quarterly       567.77   \n",
      "\n",
      "        Last Interaction  Churn  Last Interaction ZScore Total Spend Bins  \\\n",
      "0                   17.0    1.0                 0.293052        Very High   \n",
      "1                    6.0    1.0                -0.986582           Normal   \n",
      "2                    3.0    1.0                -1.335574              Low   \n",
      "3                   29.0    1.0                 1.689016         Moderate   \n",
      "4                   20.0    1.0                 0.642043           Normal   \n",
      "...                  ...    ...                      ...              ...   \n",
      "440828               8.0    0.0                -0.753922             High   \n",
      "440829               2.0    0.0                -1.451904             High   \n",
      "440830               9.0    0.0                -0.637591        Very High   \n",
      "440831               2.0    0.0                -1.451904           Normal   \n",
      "440832              21.0    0.0                 0.758373           Normal   \n",
      "\n",
      "       Contract Length One Hot  \n",
      "0             True,False,False  \n",
      "1             False,True,False  \n",
      "2             False,False,True  \n",
      "3             False,True,False  \n",
      "4             False,True,False  \n",
      "...                        ...  \n",
      "440828        True,False,False  \n",
      "440829        False,False,True  \n",
      "440830        False,False,True  \n",
      "440831        False,False,True  \n",
      "440832               Quarterly  \n",
      "\n",
      "[440832 rows x 15 columns]\n"
     ]
    }
   ],
   "source": [
    "print(df)"
   ]
  },
  {
   "cell_type": "markdown",
   "metadata": {},
   "source": [
    "## Requirement 6\n"
   ]
  },
  {
   "cell_type": "markdown",
   "metadata": {},
   "source": [
    "### Define new attribute"
   ]
  },
  {
   "cell_type": "markdown",
   "metadata": {},
   "source": [
    "1. Service Usage Ratio: (Support Calls / Usage Frequency)\n"
   ]
  },
  {
   "cell_type": "markdown",
   "metadata": {},
   "source": [
    "This attribute calculates the ratio of the number of customer support calls to the total usage frequency. It provides insights into how frequently customers require assistance relative to their overall product or service usage. Higher values may indicate potential issues or dissatisfaction that need to be addressed."
   ]
  },
  {
   "cell_type": "markdown",
   "metadata": {},
   "source": [
    "2. Payment Delay Indicator: (Binning Payment Delay)"
   ]
  },
  {
   "cell_type": "markdown",
   "metadata": {},
   "source": [
    " This attribute categorizes customers based on their payment behavior. It can be defined as \"On Time,\" \"Delayed,\" or \"Missed\" payments. Analyzing this attribute can help identify customers who may be facing financial difficulties or those who are consistently punctual with their payments."
   ]
  },
  {
   "cell_type": "markdown",
   "metadata": {},
   "source": [
    "3. Total Spend per Service: (Total Spend / Usage Frequency)"
   ]
  },
  {
   "cell_type": "markdown",
   "metadata": {},
   "source": [
    "This attribute calculates the total amount spent by each customer on the different services provided by the company. By analyzing this attribute, businesses can identify which services contribute the most to their revenue and customer retention efforts. It also helps to recognize customers with high spending across various services, which may indicate higher engagement and loyalty."
   ]
  },
  {
   "cell_type": "markdown",
   "metadata": {},
   "source": [
    "4. Customer Tenure Group: (Binning Tenure)"
   ]
  },
  {
   "cell_type": "markdown",
   "metadata": {},
   "source": [
    "This attribute categorizes customers based on their tenure with the company. It can be defined as \"New,\" \"Intermediate,\" or \"Long-Term\" based on predefined cutoffs, such as customers with a tenure of less than 1 month, between 1 month and 2 months, and more than 2 months, respectively. This attribute helps identify the loyalty and engagement levels of customers based on their relationship duration with the company."
   ]
  },
  {
   "cell_type": "markdown",
   "metadata": {},
   "source": [
    "5. Subscriber Age Group: (Binning Age) "
   ]
  },
  {
   "cell_type": "markdown",
   "metadata": {},
   "source": [
    "Categorize customers into age groups, such as \"Young Adults,\" \"Middle-Aged,\" and \"Seniors,\" based on age. Age groups may exhibit different churn behaviors."
   ]
  }
 ],
 "metadata": {
  "kernelspec": {
   "display_name": "Python 3",
   "language": "python",
   "name": "python3"
  },
  "language_info": {
   "codemirror_mode": {
    "name": "ipython",
    "version": 3
   },
   "file_extension": ".py",
   "mimetype": "text/x-python",
   "name": "python",
   "nbconvert_exporter": "python",
   "pygments_lexer": "ipython3",
   "version": "3.11.4"
  },
  "orig_nbformat": 4
 },
 "nbformat": 4,
 "nbformat_minor": 2
}
